{
 "cells": [
  {
   "cell_type": "markdown",
   "metadata": {},
   "source": [
    "### IMDb Movie Rating Prediction\n",
    "\n",
    "In the following notebook, we will train a regressor to predict a movies average rating using [IMDb datasets](https://www.imdb.com/interfaces/). First we import the datasets `title.ratings.tsv.gz`, `title.basics.tsv.gz` because they contain the target value *averageRating* and some basic information about the dataset, respectively."
   ]
  },
  {
   "cell_type": "code",
   "execution_count": 1,
   "metadata": {},
   "outputs": [
    {
     "data": {
      "text/html": [
       "<div>\n",
       "<style scoped>\n",
       "    .dataframe tbody tr th:only-of-type {\n",
       "        vertical-align: middle;\n",
       "    }\n",
       "\n",
       "    .dataframe tbody tr th {\n",
       "        vertical-align: top;\n",
       "    }\n",
       "\n",
       "    .dataframe thead th {\n",
       "        text-align: right;\n",
       "    }\n",
       "</style>\n",
       "<table border=\"1\" class=\"dataframe\">\n",
       "  <thead>\n",
       "    <tr style=\"text-align: right;\">\n",
       "      <th></th>\n",
       "      <th>tconst</th>\n",
       "      <th>averageRating</th>\n",
       "      <th>numVotes</th>\n",
       "    </tr>\n",
       "  </thead>\n",
       "  <tbody>\n",
       "    <tr>\n",
       "      <th>0</th>\n",
       "      <td>tt0000001</td>\n",
       "      <td>5.8</td>\n",
       "      <td>1417</td>\n",
       "    </tr>\n",
       "    <tr>\n",
       "      <th>1</th>\n",
       "      <td>tt0000002</td>\n",
       "      <td>6.4</td>\n",
       "      <td>167</td>\n",
       "    </tr>\n",
       "    <tr>\n",
       "      <th>2</th>\n",
       "      <td>tt0000003</td>\n",
       "      <td>6.6</td>\n",
       "      <td>1013</td>\n",
       "    </tr>\n",
       "  </tbody>\n",
       "</table>\n",
       "</div>"
      ],
      "text/plain": [
       "      tconst  averageRating  numVotes\n",
       "0  tt0000001            5.8      1417\n",
       "1  tt0000002            6.4       167\n",
       "2  tt0000003            6.6      1013"
      ]
     },
     "execution_count": 1,
     "metadata": {},
     "output_type": "execute_result"
    }
   ],
   "source": [
    "import pandas as pd\n",
    "\n",
    "ratings = pd.read_csv('title.ratings.tsv.gz',sep='\\t', compression='gzip')\n",
    "ratings.head(3)"
   ]
  },
  {
   "cell_type": "code",
   "execution_count": 2,
   "metadata": {},
   "outputs": [
    {
     "data": {
      "text/html": [
       "<div>\n",
       "<style scoped>\n",
       "    .dataframe tbody tr th:only-of-type {\n",
       "        vertical-align: middle;\n",
       "    }\n",
       "\n",
       "    .dataframe tbody tr th {\n",
       "        vertical-align: top;\n",
       "    }\n",
       "\n",
       "    .dataframe thead th {\n",
       "        text-align: right;\n",
       "    }\n",
       "</style>\n",
       "<table border=\"1\" class=\"dataframe\">\n",
       "  <thead>\n",
       "    <tr style=\"text-align: right;\">\n",
       "      <th></th>\n",
       "      <th>tconst</th>\n",
       "      <th>titleType</th>\n",
       "      <th>primaryTitle</th>\n",
       "      <th>originalTitle</th>\n",
       "      <th>isAdult</th>\n",
       "      <th>startYear</th>\n",
       "      <th>endYear</th>\n",
       "      <th>runtimeMinutes</th>\n",
       "      <th>genres</th>\n",
       "    </tr>\n",
       "  </thead>\n",
       "  <tbody>\n",
       "    <tr>\n",
       "      <th>0</th>\n",
       "      <td>tt0000001</td>\n",
       "      <td>short</td>\n",
       "      <td>Carmencita</td>\n",
       "      <td>Carmencita</td>\n",
       "      <td>0</td>\n",
       "      <td>1894</td>\n",
       "      <td>\\N</td>\n",
       "      <td>1</td>\n",
       "      <td>Documentary,Short</td>\n",
       "    </tr>\n",
       "    <tr>\n",
       "      <th>1</th>\n",
       "      <td>tt0000002</td>\n",
       "      <td>short</td>\n",
       "      <td>Le clown et ses chiens</td>\n",
       "      <td>Le clown et ses chiens</td>\n",
       "      <td>0</td>\n",
       "      <td>1892</td>\n",
       "      <td>\\N</td>\n",
       "      <td>5</td>\n",
       "      <td>Animation,Short</td>\n",
       "    </tr>\n",
       "    <tr>\n",
       "      <th>2</th>\n",
       "      <td>tt0000003</td>\n",
       "      <td>short</td>\n",
       "      <td>Pauvre Pierrot</td>\n",
       "      <td>Pauvre Pierrot</td>\n",
       "      <td>0</td>\n",
       "      <td>1892</td>\n",
       "      <td>\\N</td>\n",
       "      <td>4</td>\n",
       "      <td>Animation,Comedy,Romance</td>\n",
       "    </tr>\n",
       "  </tbody>\n",
       "</table>\n",
       "</div>"
      ],
      "text/plain": [
       "      tconst titleType            primaryTitle           originalTitle  \\\n",
       "0  tt0000001     short              Carmencita              Carmencita   \n",
       "1  tt0000002     short  Le clown et ses chiens  Le clown et ses chiens   \n",
       "2  tt0000003     short          Pauvre Pierrot          Pauvre Pierrot   \n",
       "\n",
       "   isAdult startYear endYear runtimeMinutes                    genres  \n",
       "0        0      1894      \\N              1         Documentary,Short  \n",
       "1        0      1892      \\N              5           Animation,Short  \n",
       "2        0      1892      \\N              4  Animation,Comedy,Romance  "
      ]
     },
     "execution_count": 2,
     "metadata": {},
     "output_type": "execute_result"
    }
   ],
   "source": [
    "basics = pd.read_csv('title.basics.tsv.gz',sep='\\t', compression='gzip', low_memory=False)\n",
    "basics.head(3)"
   ]
  },
  {
   "cell_type": "markdown",
   "metadata": {},
   "source": [
    "According to the *titleType*, the dataset also contains audio-visual material except from movies. "
   ]
  },
  {
   "cell_type": "code",
   "execution_count": 3,
   "metadata": {},
   "outputs": [
    {
     "data": {
      "text/plain": [
       "array(['short', 'movie', 'tvMovie', 'tvSeries', 'tvEpisode', 'tvShort',\n",
       "       'tvMiniSeries', 'tvSpecial', 'video', 'videoGame'], dtype=object)"
      ]
     },
     "execution_count": 3,
     "metadata": {},
     "output_type": "execute_result"
    }
   ],
   "source": [
    "basics.titleType.unique()"
   ]
  },
  {
   "cell_type": "markdown",
   "metadata": {},
   "source": [
    "However, we want to focus at real movies right now. Therefore, we remove all rows that do not describe a movie, like videos and tv series, by filtering the title type. Then, we drop the columns *primaryTitle*, *originalTitle* and *endYear*, because I do not see any easily accessible predictive value in the titles and *endYear* is '\\N' for all movies. The column *titleType* will also be dropped because the remaining titles are movies anyways."
   ]
  },
  {
   "cell_type": "code",
   "execution_count": 4,
   "metadata": {},
   "outputs": [
    {
     "data": {
      "text/html": [
       "<div>\n",
       "<style scoped>\n",
       "    .dataframe tbody tr th:only-of-type {\n",
       "        vertical-align: middle;\n",
       "    }\n",
       "\n",
       "    .dataframe tbody tr th {\n",
       "        vertical-align: top;\n",
       "    }\n",
       "\n",
       "    .dataframe thead th {\n",
       "        text-align: right;\n",
       "    }\n",
       "</style>\n",
       "<table border=\"1\" class=\"dataframe\">\n",
       "  <thead>\n",
       "    <tr style=\"text-align: right;\">\n",
       "      <th></th>\n",
       "      <th>tconst</th>\n",
       "      <th>isAdult</th>\n",
       "      <th>startYear</th>\n",
       "      <th>runtimeMinutes</th>\n",
       "      <th>genres</th>\n",
       "    </tr>\n",
       "  </thead>\n",
       "  <tbody>\n",
       "    <tr>\n",
       "      <th>8</th>\n",
       "      <td>tt0000009</td>\n",
       "      <td>0</td>\n",
       "      <td>1894</td>\n",
       "      <td>45</td>\n",
       "      <td>Romance</td>\n",
       "    </tr>\n",
       "    <tr>\n",
       "      <th>145</th>\n",
       "      <td>tt0000147</td>\n",
       "      <td>0</td>\n",
       "      <td>1897</td>\n",
       "      <td>20</td>\n",
       "      <td>Documentary,News,Sport</td>\n",
       "    </tr>\n",
       "    <tr>\n",
       "      <th>332</th>\n",
       "      <td>tt0000335</td>\n",
       "      <td>0</td>\n",
       "      <td>1900</td>\n",
       "      <td>\\N</td>\n",
       "      <td>Biography,Drama</td>\n",
       "    </tr>\n",
       "  </tbody>\n",
       "</table>\n",
       "</div>"
      ],
      "text/plain": [
       "        tconst  isAdult startYear runtimeMinutes                  genres\n",
       "8    tt0000009        0      1894             45                 Romance\n",
       "145  tt0000147        0      1897             20  Documentary,News,Sport\n",
       "332  tt0000335        0      1900             \\N         Biography,Drama"
      ]
     },
     "execution_count": 4,
     "metadata": {},
     "output_type": "execute_result"
    }
   ],
   "source": [
    "basics = basics.query('titleType == \"movie\"')\n",
    "basics = basics.drop(columns=['primaryTitle', 'originalTitle', 'endYear', 'titleType'])\n",
    "basics.head(3)"
   ]
  },
  {
   "cell_type": "code",
   "execution_count": 5,
   "metadata": {},
   "outputs": [
    {
     "name": "stdout",
     "output_type": "stream",
     "text": [
      "Dataset total entries: 499586\n",
      "---\n",
      "Numeric runtime entries: 312650\n",
      "Missing/invalid runtime entries: 186936\n",
      "---\n",
      "Numeric startYear entries: 452853\n",
      "Missing/invalid startYear entries: 46733\n",
      "---\n",
      "Numeric isAdult entries: 499586\n",
      "Missing/invalid isAdult entries: 0\n"
     ]
    }
   ],
   "source": [
    "print('Dataset total entries: {}'.format(basics.shape[0]))\n",
    "print('---')\n",
    "print('Numeric runtime entries: {}'.format(basics[pd.to_numeric(basics[\"runtimeMinutes\"], errors='coerce').notnull()].shape[0]))\n",
    "print('Missing/invalid runtime entries: {}'.format(basics[pd.to_numeric(basics[\"runtimeMinutes\"], errors='coerce').isnull()].shape[0]))\n",
    "print('---')\n",
    "print('Numeric startYear entries: {}'.format(basics[pd.to_numeric(basics[\"startYear\"], errors='coerce').notnull()].shape[0]))\n",
    "print('Missing/invalid startYear entries: {}'.format(basics[pd.to_numeric(basics[\"startYear\"], errors='coerce').isnull()].shape[0]))\n",
    "print('---')\n",
    "print('Numeric isAdult entries: {}'.format(basics.query('isAdult==0 or isAdult==1').shape[0]))\n",
    "print('Missing/invalid isAdult entries: {}'.format(basics.query('isAdult!=0 and isAdult!=1').shape[0]))"
   ]
  },
  {
   "cell_type": "markdown",
   "metadata": {},
   "source": [
    "The columns *runtimeMinutes* and *startYear* contain null values and errors. I speculate that the wrong and missing values are biased. I guess that old and especially unpopular movies are more likely to contain missing values/errors.\n",
    "Therefore, I assume that a missing/erroneous value has a high predictive value for this particular dataset, but does not generalize well to the prediction of new, unrated movies. This, however, is just an assumption that has to be checked and it might lead to a better result to generate sensible fillers.\n",
    "\n",
    "Given the assumption and the time limitation, we just remove all the rows that do not contain numeric values because there are still a lot of remaining movies."
   ]
  },
  {
   "cell_type": "code",
   "execution_count": 6,
   "metadata": {},
   "outputs": [],
   "source": [
    "basics = basics[pd.to_numeric(basics[\"runtimeMinutes\"], errors='coerce').notnull()]\n",
    "basics[\"runtimeMinutes\"] = pd.to_numeric(basics[\"runtimeMinutes\"])\n",
    "\n",
    "basics = basics[pd.to_numeric(basics[\"startYear\"], errors='coerce').notnull()]\n",
    "basics[\"startYear\"] = pd.to_numeric(basics[\"startYear\"])"
   ]
  },
  {
   "cell_type": "markdown",
   "metadata": {},
   "source": [
    "The column *genres* contains up to three genres for each movie. Some genres might lead to a better rating than others. Therefore, we create a new column for each genre and encode it similar to one hot encoding. Another possible approach would be to look at the combination of genres, as well. "
   ]
  },
  {
   "cell_type": "code",
   "execution_count": 7,
   "metadata": {},
   "outputs": [
    {
     "data": {
      "text/html": [
       "<div>\n",
       "<style scoped>\n",
       "    .dataframe tbody tr th:only-of-type {\n",
       "        vertical-align: middle;\n",
       "    }\n",
       "\n",
       "    .dataframe tbody tr th {\n",
       "        vertical-align: top;\n",
       "    }\n",
       "\n",
       "    .dataframe thead th {\n",
       "        text-align: right;\n",
       "    }\n",
       "</style>\n",
       "<table border=\"1\" class=\"dataframe\">\n",
       "  <thead>\n",
       "    <tr style=\"text-align: right;\">\n",
       "      <th></th>\n",
       "      <th>tconst</th>\n",
       "      <th>isAdult</th>\n",
       "      <th>startYear</th>\n",
       "      <th>runtimeMinutes</th>\n",
       "      <th>Action</th>\n",
       "      <th>Adult</th>\n",
       "      <th>Adventure</th>\n",
       "      <th>Animation</th>\n",
       "      <th>Biography</th>\n",
       "      <th>Comedy</th>\n",
       "      <th>...</th>\n",
       "      <th>News</th>\n",
       "      <th>Reality-TV</th>\n",
       "      <th>Romance</th>\n",
       "      <th>Sci-Fi</th>\n",
       "      <th>Short</th>\n",
       "      <th>Sport</th>\n",
       "      <th>Talk-Show</th>\n",
       "      <th>Thriller</th>\n",
       "      <th>War</th>\n",
       "      <th>Western</th>\n",
       "    </tr>\n",
       "  </thead>\n",
       "  <tbody>\n",
       "    <tr>\n",
       "      <th>8</th>\n",
       "      <td>tt0000009</td>\n",
       "      <td>0</td>\n",
       "      <td>1894</td>\n",
       "      <td>45</td>\n",
       "      <td>0</td>\n",
       "      <td>0</td>\n",
       "      <td>0</td>\n",
       "      <td>0</td>\n",
       "      <td>0</td>\n",
       "      <td>0</td>\n",
       "      <td>...</td>\n",
       "      <td>0</td>\n",
       "      <td>0</td>\n",
       "      <td>1</td>\n",
       "      <td>0</td>\n",
       "      <td>0</td>\n",
       "      <td>0</td>\n",
       "      <td>0</td>\n",
       "      <td>0</td>\n",
       "      <td>0</td>\n",
       "      <td>0</td>\n",
       "    </tr>\n",
       "    <tr>\n",
       "      <th>145</th>\n",
       "      <td>tt0000147</td>\n",
       "      <td>0</td>\n",
       "      <td>1897</td>\n",
       "      <td>20</td>\n",
       "      <td>0</td>\n",
       "      <td>0</td>\n",
       "      <td>0</td>\n",
       "      <td>0</td>\n",
       "      <td>0</td>\n",
       "      <td>0</td>\n",
       "      <td>...</td>\n",
       "      <td>1</td>\n",
       "      <td>0</td>\n",
       "      <td>0</td>\n",
       "      <td>0</td>\n",
       "      <td>0</td>\n",
       "      <td>1</td>\n",
       "      <td>0</td>\n",
       "      <td>0</td>\n",
       "      <td>0</td>\n",
       "      <td>0</td>\n",
       "    </tr>\n",
       "    <tr>\n",
       "      <th>499</th>\n",
       "      <td>tt0000502</td>\n",
       "      <td>0</td>\n",
       "      <td>1905</td>\n",
       "      <td>100</td>\n",
       "      <td>0</td>\n",
       "      <td>0</td>\n",
       "      <td>0</td>\n",
       "      <td>0</td>\n",
       "      <td>0</td>\n",
       "      <td>0</td>\n",
       "      <td>...</td>\n",
       "      <td>0</td>\n",
       "      <td>0</td>\n",
       "      <td>0</td>\n",
       "      <td>0</td>\n",
       "      <td>0</td>\n",
       "      <td>0</td>\n",
       "      <td>0</td>\n",
       "      <td>0</td>\n",
       "      <td>0</td>\n",
       "      <td>0</td>\n",
       "    </tr>\n",
       "  </tbody>\n",
       "</table>\n",
       "<p>3 rows × 32 columns</p>\n",
       "</div>"
      ],
      "text/plain": [
       "        tconst  isAdult  startYear  runtimeMinutes  Action  Adult  Adventure  \\\n",
       "8    tt0000009        0       1894              45       0      0          0   \n",
       "145  tt0000147        0       1897              20       0      0          0   \n",
       "499  tt0000502        0       1905             100       0      0          0   \n",
       "\n",
       "     Animation  Biography  Comedy   ...     News  Reality-TV  Romance  Sci-Fi  \\\n",
       "8            0          0       0   ...        0           0        1       0   \n",
       "145          0          0       0   ...        1           0        0       0   \n",
       "499          0          0       0   ...        0           0        0       0   \n",
       "\n",
       "     Short  Sport  Talk-Show  Thriller  War  Western  \n",
       "8        0      0          0         0    0        0  \n",
       "145      0      1          0         0    0        0  \n",
       "499      0      0          0         0    0        0  \n",
       "\n",
       "[3 rows x 32 columns]"
      ]
     },
     "execution_count": 7,
     "metadata": {},
     "output_type": "execute_result"
    }
   ],
   "source": [
    "from sklearn.preprocessing import MultiLabelBinarizer\n",
    "basics['genres'] = basics['genres'].apply(lambda genreString: genreString.split(\",\"))\n",
    "\n",
    "mlb = MultiLabelBinarizer()\n",
    "encoded_genres = pd.DataFrame(mlb.fit_transform(basics['genres']), columns=mlb.classes_, index=basics.index)\n",
    "\n",
    "basics = pd.concat([basics,encoded_genres], axis=1)\n",
    "basics = basics.drop(columns=['genres','\\\\N'])\n",
    "\n",
    "basics.head(3)"
   ]
  },
  {
   "cell_type": "markdown",
   "metadata": {},
   "source": [
    "We finished preprocessing the basics dataset for now. Next, we will prepare the ratings dataset and create our first model. \n",
    "\n",
    "The number of votes for a movie probably has a high predictive value because I assume that popular movies are more likely to receive votes. However, it is more of a target value than a feature. At the time that we know the number of votes, we most likely also know the movie rating. Therefore, we remove the column even though it might lower the models performance on the training data."
   ]
  },
  {
   "cell_type": "code",
   "execution_count": 8,
   "metadata": {},
   "outputs": [
    {
     "data": {
      "text/html": [
       "<div>\n",
       "<style scoped>\n",
       "    .dataframe tbody tr th:only-of-type {\n",
       "        vertical-align: middle;\n",
       "    }\n",
       "\n",
       "    .dataframe tbody tr th {\n",
       "        vertical-align: top;\n",
       "    }\n",
       "\n",
       "    .dataframe thead th {\n",
       "        text-align: right;\n",
       "    }\n",
       "</style>\n",
       "<table border=\"1\" class=\"dataframe\">\n",
       "  <thead>\n",
       "    <tr style=\"text-align: right;\">\n",
       "      <th></th>\n",
       "      <th>tconst</th>\n",
       "      <th>averageRating</th>\n",
       "    </tr>\n",
       "  </thead>\n",
       "  <tbody>\n",
       "    <tr>\n",
       "      <th>0</th>\n",
       "      <td>tt0000001</td>\n",
       "      <td>5.8</td>\n",
       "    </tr>\n",
       "    <tr>\n",
       "      <th>1</th>\n",
       "      <td>tt0000002</td>\n",
       "      <td>6.4</td>\n",
       "    </tr>\n",
       "    <tr>\n",
       "      <th>2</th>\n",
       "      <td>tt0000003</td>\n",
       "      <td>6.6</td>\n",
       "    </tr>\n",
       "  </tbody>\n",
       "</table>\n",
       "</div>"
      ],
      "text/plain": [
       "      tconst  averageRating\n",
       "0  tt0000001            5.8\n",
       "1  tt0000002            6.4\n",
       "2  tt0000003            6.6"
      ]
     },
     "execution_count": 8,
     "metadata": {},
     "output_type": "execute_result"
    }
   ],
   "source": [
    "ratings = ratings.drop(columns=['numVotes'])\n",
    "ratings.head(3)"
   ]
  },
  {
   "cell_type": "markdown",
   "metadata": {},
   "source": [
    "Then we merge the basics and ratings datasets by performing an inner join on the movie identifier 'tconst'."
   ]
  },
  {
   "cell_type": "code",
   "execution_count": 9,
   "metadata": {},
   "outputs": [
    {
     "data": {
      "text/html": [
       "<div>\n",
       "<style scoped>\n",
       "    .dataframe tbody tr th:only-of-type {\n",
       "        vertical-align: middle;\n",
       "    }\n",
       "\n",
       "    .dataframe tbody tr th {\n",
       "        vertical-align: top;\n",
       "    }\n",
       "\n",
       "    .dataframe thead th {\n",
       "        text-align: right;\n",
       "    }\n",
       "</style>\n",
       "<table border=\"1\" class=\"dataframe\">\n",
       "  <thead>\n",
       "    <tr style=\"text-align: right;\">\n",
       "      <th></th>\n",
       "      <th>tconst</th>\n",
       "      <th>isAdult</th>\n",
       "      <th>startYear</th>\n",
       "      <th>runtimeMinutes</th>\n",
       "      <th>Action</th>\n",
       "      <th>Adult</th>\n",
       "      <th>Adventure</th>\n",
       "      <th>Animation</th>\n",
       "      <th>Biography</th>\n",
       "      <th>Comedy</th>\n",
       "      <th>...</th>\n",
       "      <th>Reality-TV</th>\n",
       "      <th>Romance</th>\n",
       "      <th>Sci-Fi</th>\n",
       "      <th>Short</th>\n",
       "      <th>Sport</th>\n",
       "      <th>Talk-Show</th>\n",
       "      <th>Thriller</th>\n",
       "      <th>War</th>\n",
       "      <th>Western</th>\n",
       "      <th>averageRating</th>\n",
       "    </tr>\n",
       "  </thead>\n",
       "  <tbody>\n",
       "    <tr>\n",
       "      <th>0</th>\n",
       "      <td>tt0000009</td>\n",
       "      <td>0</td>\n",
       "      <td>1894</td>\n",
       "      <td>45</td>\n",
       "      <td>0</td>\n",
       "      <td>0</td>\n",
       "      <td>0</td>\n",
       "      <td>0</td>\n",
       "      <td>0</td>\n",
       "      <td>0</td>\n",
       "      <td>...</td>\n",
       "      <td>0</td>\n",
       "      <td>1</td>\n",
       "      <td>0</td>\n",
       "      <td>0</td>\n",
       "      <td>0</td>\n",
       "      <td>0</td>\n",
       "      <td>0</td>\n",
       "      <td>0</td>\n",
       "      <td>0</td>\n",
       "      <td>5.5</td>\n",
       "    </tr>\n",
       "    <tr>\n",
       "      <th>1</th>\n",
       "      <td>tt0000147</td>\n",
       "      <td>0</td>\n",
       "      <td>1897</td>\n",
       "      <td>20</td>\n",
       "      <td>0</td>\n",
       "      <td>0</td>\n",
       "      <td>0</td>\n",
       "      <td>0</td>\n",
       "      <td>0</td>\n",
       "      <td>0</td>\n",
       "      <td>...</td>\n",
       "      <td>0</td>\n",
       "      <td>0</td>\n",
       "      <td>0</td>\n",
       "      <td>0</td>\n",
       "      <td>1</td>\n",
       "      <td>0</td>\n",
       "      <td>0</td>\n",
       "      <td>0</td>\n",
       "      <td>0</td>\n",
       "      <td>5.2</td>\n",
       "    </tr>\n",
       "    <tr>\n",
       "      <th>2</th>\n",
       "      <td>tt0000574</td>\n",
       "      <td>0</td>\n",
       "      <td>1906</td>\n",
       "      <td>70</td>\n",
       "      <td>0</td>\n",
       "      <td>0</td>\n",
       "      <td>0</td>\n",
       "      <td>0</td>\n",
       "      <td>1</td>\n",
       "      <td>0</td>\n",
       "      <td>...</td>\n",
       "      <td>0</td>\n",
       "      <td>0</td>\n",
       "      <td>0</td>\n",
       "      <td>0</td>\n",
       "      <td>0</td>\n",
       "      <td>0</td>\n",
       "      <td>0</td>\n",
       "      <td>0</td>\n",
       "      <td>0</td>\n",
       "      <td>6.3</td>\n",
       "    </tr>\n",
       "  </tbody>\n",
       "</table>\n",
       "<p>3 rows × 33 columns</p>\n",
       "</div>"
      ],
      "text/plain": [
       "      tconst  isAdult  startYear  runtimeMinutes  Action  Adult  Adventure  \\\n",
       "0  tt0000009        0       1894              45       0      0          0   \n",
       "1  tt0000147        0       1897              20       0      0          0   \n",
       "2  tt0000574        0       1906              70       0      0          0   \n",
       "\n",
       "   Animation  Biography  Comedy      ...        Reality-TV  Romance  Sci-Fi  \\\n",
       "0          0          0       0      ...                 0        1       0   \n",
       "1          0          0       0      ...                 0        0       0   \n",
       "2          0          1       0      ...                 0        0       0   \n",
       "\n",
       "   Short  Sport  Talk-Show  Thriller  War  Western  averageRating  \n",
       "0      0      0          0         0    0        0            5.5  \n",
       "1      0      1          0         0    0        0            5.2  \n",
       "2      0      0          0         0    0        0            6.3  \n",
       "\n",
       "[3 rows x 33 columns]"
      ]
     },
     "execution_count": 9,
     "metadata": {},
     "output_type": "execute_result"
    }
   ],
   "source": [
    "prep_basics_ratings = pd.merge(basics, ratings, on='tconst')\n",
    "prep_basics_ratings.head(3)"
   ]
  },
  {
   "cell_type": "markdown",
   "metadata": {},
   "source": [
    "In the following, we just preprocess the data to be compatible with our model generation algorithm. We remove *tconst* because we it has no predictive value and was only used to join the datasets."
   ]
  },
  {
   "cell_type": "code",
   "execution_count": 10,
   "metadata": {},
   "outputs": [],
   "source": [
    "import numpy as np\n",
    "\n",
    "target = np.array(prep_basics_ratings['averageRating'])\n",
    "\n",
    "features_df = prep_basics_ratings.drop(columns=['tconst','averageRating'])\n",
    "# Keep feature names for possible later use.\n",
    "feature_names = list(features_df.columns)\n",
    "features = np.array(features_df)"
   ]
  },
  {
   "cell_type": "markdown",
   "metadata": {},
   "source": [
    "To test the performance of our model later on, we seperate our data into training and testing data."
   ]
  },
  {
   "cell_type": "code",
   "execution_count": 11,
   "metadata": {},
   "outputs": [],
   "source": [
    "from sklearn.model_selection import train_test_split\n",
    "\n",
    "train_features, test_features, train_target, test_target = train_test_split(features, target, test_size = 0.20, random_state = 1)"
   ]
  },
  {
   "cell_type": "markdown",
   "metadata": {},
   "source": [
    "We will first use a random forest regressor to generate our model. The number of trees (n_estimators) is limited by my memory and processing power. In general, however, more trees improve the result."
   ]
  },
  {
   "cell_type": "code",
   "execution_count": 12,
   "metadata": {},
   "outputs": [],
   "source": [
    "from sklearn.ensemble import RandomForestRegressor\n",
    "\n",
    "rf = RandomForestRegressor(n_estimators = 100, random_state = 1)\n",
    "rf.fit(train_features, train_target);"
   ]
  },
  {
   "cell_type": "markdown",
   "metadata": {},
   "source": [
    "To measure the performance of the resulting model, we predict our test features and measure the error."
   ]
  },
  {
   "cell_type": "code",
   "execution_count": 13,
   "metadata": {},
   "outputs": [
    {
     "name": "stdout",
     "output_type": "stream",
     "text": [
      "Mean Absolute Error: 0.95\n",
      "Mean Squared Error: 1.54\n"
     ]
    }
   ],
   "source": [
    "predictions = rf.predict(test_features)\n",
    "\n",
    "errors = abs(predictions - test_target)\n",
    "\n",
    "print('Mean Absolute Error:', round(np.mean(errors), 2))\n",
    "print('Mean Squared Error:', round(np.mean(errors**2), 2))"
   ]
  },
  {
   "cell_type": "markdown",
   "metadata": {},
   "source": [
    "The next question that comes to mind is whether a 0.95 mean absolute error and 1.54 mean squared error is a good result.\n",
    "Let's look at the errors of always predicting the average of all movie ratings."
   ]
  },
  {
   "cell_type": "code",
   "execution_count": 14,
   "metadata": {},
   "outputs": [
    {
     "name": "stdout",
     "output_type": "stream",
     "text": [
      "Mean Absolute Error: 1.03\n",
      "Mean Squared Error: 1.72\n"
     ]
    }
   ],
   "source": [
    "averageRatingMean = np.mean(train_target)\n",
    "print('Mean Absolute Error:', round(np.mean(abs(test_target-averageRatingMean)), 2))\n",
    "print('Mean Squared Error:', round(np.mean(abs(test_target-averageRatingMean)**2), 2))"
   ]
  },
  {
   "cell_type": "markdown",
   "metadata": {},
   "source": [
    "Our model reduces the mean average error by 7.8% compared to prediciting the average according to the mean absolute error. The mean squared error is reduced by 10.5%."
   ]
  },
  {
   "cell_type": "markdown",
   "metadata": {},
   "source": [
    "The histogram below shows a way smaller variance than a uniform distribution. Therefore, predicting the mean already works pretty well."
   ]
  },
  {
   "cell_type": "code",
   "execution_count": 15,
   "metadata": {},
   "outputs": [
    {
     "data": {
      "text/plain": [
       "<Figure size 640x480 with 1 Axes>"
      ]
     },
     "metadata": {},
     "output_type": "display_data"
    }
   ],
   "source": [
    "# Import the libraries\n",
    "import matplotlib.pyplot as plt\n",
    "\n",
    "# matplotlib histogram\n",
    "plt.hist(ratings['averageRating'], color = 'blue', edgecolor = 'black',\n",
    "         bins = 20)\n",
    "\n",
    "# Add labels\n",
    "plt.title('Histogram of the movie ratings.')\n",
    "plt.xlabel('Rating')\n",
    "plt.xticks(range(10))\n",
    "plt.ylabel('Movies count')\n",
    "\n",
    "plt.show()"
   ]
  },
  {
   "cell_type": "markdown",
   "metadata": {},
   "source": [
    "The random forest regressor allows us to retrieve the relative importance of each feature for the final result.\n",
    "It looks like most of the genres have a neglectable impact on the prediction. The importances could be used to drop some of the features. However, we will keep them for now."
   ]
  },
  {
   "cell_type": "code",
   "execution_count": 16,
   "metadata": {},
   "outputs": [
    {
     "name": "stdout",
     "output_type": "stream",
     "text": [
      "runtimeMinutes       Importance: 0.29\n",
      "startYear            Importance: 0.26\n",
      "Documentary          Importance: 0.13\n",
      "Horror               Importance: 0.06\n",
      "Drama                Importance: 0.03\n",
      "Adventure            Importance: 0.02\n",
      "Comedy               Importance: 0.02\n",
      "Crime                Importance: 0.02\n",
      "Romance              Importance: 0.02\n",
      "Thriller             Importance: 0.02\n",
      "Action               Importance: 0.01\n",
      "Animation            Importance: 0.01\n",
      "Biography            Importance: 0.01\n",
      "Family               Importance: 0.01\n",
      "Fantasy              Importance: 0.01\n",
      "History              Importance: 0.01\n",
      "Music                Importance: 0.01\n",
      "Musical              Importance: 0.01\n",
      "Mystery              Importance: 0.01\n",
      "Sci-Fi               Importance: 0.01\n",
      "Sport                Importance: 0.01\n",
      "War                  Importance: 0.01\n",
      "Western              Importance: 0.01\n",
      "isAdult              Importance: 0.0\n",
      "Adult                Importance: 0.0\n",
      "Film-Noir            Importance: 0.0\n",
      "Game-Show            Importance: 0.0\n",
      "News                 Importance: 0.0\n",
      "Reality-TV           Importance: 0.0\n",
      "Short                Importance: 0.0\n",
      "Talk-Show            Importance: 0.0\n"
     ]
    }
   ],
   "source": [
    "# Get numerical feature importances\n",
    "importances = list(rf.feature_importances_)\n",
    "# List of tuples with variable and importance\n",
    "feature_importances = [(feature, round(importance, 2)) for feature, importance in zip(feature_names, importances)]\n",
    "# Sort the feature importances by most important first\n",
    "feature_importances = sorted(feature_importances, key = lambda x: x[1], reverse = True)\n",
    "# Print out the feature and importances \n",
    "[print('{:20} Importance: {}'.format(*pair)) for pair in feature_importances];"
   ]
  },
  {
   "cell_type": "markdown",
   "metadata": {},
   "source": [
    "To further improve our model, we look at the remaining unused datasets. `title.crew.tsv.gz` contains information about the directors and writers of a movie. This information should have a high predictive value. \n",
    "\n",
    "First, we import the dataset. Then, we transform the directors column back to an array of director identifiers."
   ]
  },
  {
   "cell_type": "code",
   "execution_count": 17,
   "metadata": {},
   "outputs": [
    {
     "data": {
      "text/html": [
       "<div>\n",
       "<style scoped>\n",
       "    .dataframe tbody tr th:only-of-type {\n",
       "        vertical-align: middle;\n",
       "    }\n",
       "\n",
       "    .dataframe tbody tr th {\n",
       "        vertical-align: top;\n",
       "    }\n",
       "\n",
       "    .dataframe thead th {\n",
       "        text-align: right;\n",
       "    }\n",
       "</style>\n",
       "<table border=\"1\" class=\"dataframe\">\n",
       "  <thead>\n",
       "    <tr style=\"text-align: right;\">\n",
       "      <th></th>\n",
       "      <th>tconst</th>\n",
       "      <th>directors</th>\n",
       "      <th>writers</th>\n",
       "    </tr>\n",
       "  </thead>\n",
       "  <tbody>\n",
       "    <tr>\n",
       "      <th>0</th>\n",
       "      <td>tt0000001</td>\n",
       "      <td>[nm0005690]</td>\n",
       "      <td>[\\N]</td>\n",
       "    </tr>\n",
       "    <tr>\n",
       "      <th>1</th>\n",
       "      <td>tt0000002</td>\n",
       "      <td>[nm0721526]</td>\n",
       "      <td>[\\N]</td>\n",
       "    </tr>\n",
       "    <tr>\n",
       "      <th>2</th>\n",
       "      <td>tt0000003</td>\n",
       "      <td>[nm0721526]</td>\n",
       "      <td>[\\N]</td>\n",
       "    </tr>\n",
       "  </tbody>\n",
       "</table>\n",
       "</div>"
      ],
      "text/plain": [
       "      tconst    directors writers\n",
       "0  tt0000001  [nm0005690]    [\\N]\n",
       "1  tt0000002  [nm0721526]    [\\N]\n",
       "2  tt0000003  [nm0721526]    [\\N]"
      ]
     },
     "execution_count": 17,
     "metadata": {},
     "output_type": "execute_result"
    }
   ],
   "source": [
    "crew = pd.read_csv('title.crew.tsv.gz',sep='\\t', compression='gzip')\n",
    "crew['directors'] = crew['directors'].apply(lambda directors: directors.split(\",\"))\n",
    "crew['writers'] = crew['writers'].apply(lambda writers: writers.split(\",\"))\n",
    "crew.head(3)"
   ]
  },
  {
   "cell_type": "code",
   "execution_count": 18,
   "metadata": {},
   "outputs": [
    {
     "name": "stdout",
     "output_type": "stream",
     "text": [
      "Dataset entries: 5317248\n"
     ]
    }
   ],
   "source": [
    "print('Dataset entries: {}'.format(crew.shape[0]))"
   ]
  },
  {
   "cell_type": "markdown",
   "metadata": {},
   "source": [
    "Given the huge amount of different directors and writers, one hot encoding would lead to a massive dataset. Therefore, we try to measure the impact of the director in another way. We assume that, in general, a director who produces good rated movies receives more job offers and continuous to produce high rated movies. Therefore, we count how many movies each director produced."
   ]
  },
  {
   "cell_type": "code",
   "execution_count": 19,
   "metadata": {},
   "outputs": [],
   "source": [
    "from collections import Counter\n",
    "\n",
    "directors = crew['directors'].tolist()\n",
    "director_count = Counter(director for sublist in directors for director in sublist)\n",
    "\n",
    "writers = crew['writers'].tolist()\n",
    "writer_count = Counter(writer for sublist in writers for writer in sublist)"
   ]
  },
  {
   "cell_type": "code",
   "execution_count": 20,
   "metadata": {},
   "outputs": [],
   "source": [
    "director_count.pop('\\\\N'); \n",
    "writer_count.pop('\\\\N');"
   ]
  },
  {
   "cell_type": "markdown",
   "metadata": {},
   "source": [
    "Then, we introduce a new feature *director_movie_count*. The same procedure is done for the *writers*.\n",
    "We try out two different metrics for multiple writers/directors. One metric is to take the count of the person with the most movies. The second is to average them. The metric however did not change the accuracy."
   ]
  },
  {
   "cell_type": "code",
   "execution_count": 21,
   "metadata": {},
   "outputs": [
    {
     "data": {
      "text/html": [
       "<div>\n",
       "<style scoped>\n",
       "    .dataframe tbody tr th:only-of-type {\n",
       "        vertical-align: middle;\n",
       "    }\n",
       "\n",
       "    .dataframe tbody tr th {\n",
       "        vertical-align: top;\n",
       "    }\n",
       "\n",
       "    .dataframe thead th {\n",
       "        text-align: right;\n",
       "    }\n",
       "</style>\n",
       "<table border=\"1\" class=\"dataframe\">\n",
       "  <thead>\n",
       "    <tr style=\"text-align: right;\">\n",
       "      <th></th>\n",
       "      <th>tconst</th>\n",
       "      <th>directors</th>\n",
       "      <th>writers</th>\n",
       "      <th>directors_movie_count</th>\n",
       "      <th>writers_movie_count</th>\n",
       "    </tr>\n",
       "  </thead>\n",
       "  <tbody>\n",
       "    <tr>\n",
       "      <th>0</th>\n",
       "      <td>tt0000001</td>\n",
       "      <td>[nm0005690]</td>\n",
       "      <td>[\\N]</td>\n",
       "      <td>163.0</td>\n",
       "      <td>0.0</td>\n",
       "    </tr>\n",
       "    <tr>\n",
       "      <th>1</th>\n",
       "      <td>tt0000002</td>\n",
       "      <td>[nm0721526]</td>\n",
       "      <td>[\\N]</td>\n",
       "      <td>7.0</td>\n",
       "      <td>0.0</td>\n",
       "    </tr>\n",
       "    <tr>\n",
       "      <th>2</th>\n",
       "      <td>tt0000003</td>\n",
       "      <td>[nm0721526]</td>\n",
       "      <td>[\\N]</td>\n",
       "      <td>7.0</td>\n",
       "      <td>0.0</td>\n",
       "    </tr>\n",
       "  </tbody>\n",
       "</table>\n",
       "</div>"
      ],
      "text/plain": [
       "      tconst    directors writers  directors_movie_count  writers_movie_count\n",
       "0  tt0000001  [nm0005690]    [\\N]                  163.0                  0.0\n",
       "1  tt0000002  [nm0721526]    [\\N]                    7.0                  0.0\n",
       "2  tt0000003  [nm0721526]    [\\N]                    7.0                  0.0"
      ]
     },
     "execution_count": 21,
     "metadata": {},
     "output_type": "execute_result"
    }
   ],
   "source": [
    "def identifiers_to_metric(identifiers, identifier_count_map):\n",
    "    max = 0\n",
    "    for identifier in identifiers:\n",
    "#       Use max count. I.e. use the amount of movies that the director with the most movies produced.\n",
    "#       if identifier_count_map.get(identifier, 0) > max:\n",
    "\n",
    "#       Use average count of all writers/directors\n",
    "#       max = identifier_count_map[identifier]\n",
    "        max = max + identifier_count_map.get(identifier,0)\n",
    "    return max/len(identifiers)\n",
    "\n",
    "crew['directors_movie_count'] = crew['directors'].apply(lambda directors: identifiers_to_metric(directors, director_count))\n",
    "crew['writers_movie_count'] = crew['writers'].apply(lambda writers: identifiers_to_metric(writers, writer_count))\n",
    "crew.head(3)"
   ]
  },
  {
   "cell_type": "markdown",
   "metadata": {},
   "source": [
    "Then we remove the *directors* and *writers* column and perform an inner join with the previously preprocessed dataset."
   ]
  },
  {
   "cell_type": "code",
   "execution_count": 22,
   "metadata": {},
   "outputs": [
    {
     "data": {
      "text/html": [
       "<div>\n",
       "<style scoped>\n",
       "    .dataframe tbody tr th:only-of-type {\n",
       "        vertical-align: middle;\n",
       "    }\n",
       "\n",
       "    .dataframe tbody tr th {\n",
       "        vertical-align: top;\n",
       "    }\n",
       "\n",
       "    .dataframe thead th {\n",
       "        text-align: right;\n",
       "    }\n",
       "</style>\n",
       "<table border=\"1\" class=\"dataframe\">\n",
       "  <thead>\n",
       "    <tr style=\"text-align: right;\">\n",
       "      <th></th>\n",
       "      <th>tconst</th>\n",
       "      <th>isAdult</th>\n",
       "      <th>startYear</th>\n",
       "      <th>runtimeMinutes</th>\n",
       "      <th>Action</th>\n",
       "      <th>Adult</th>\n",
       "      <th>Adventure</th>\n",
       "      <th>Animation</th>\n",
       "      <th>Biography</th>\n",
       "      <th>Comedy</th>\n",
       "      <th>...</th>\n",
       "      <th>Sci-Fi</th>\n",
       "      <th>Short</th>\n",
       "      <th>Sport</th>\n",
       "      <th>Talk-Show</th>\n",
       "      <th>Thriller</th>\n",
       "      <th>War</th>\n",
       "      <th>Western</th>\n",
       "      <th>averageRating</th>\n",
       "      <th>directors_movie_count</th>\n",
       "      <th>writers_movie_count</th>\n",
       "    </tr>\n",
       "  </thead>\n",
       "  <tbody>\n",
       "    <tr>\n",
       "      <th>0</th>\n",
       "      <td>tt0000009</td>\n",
       "      <td>0</td>\n",
       "      <td>1894</td>\n",
       "      <td>45</td>\n",
       "      <td>0</td>\n",
       "      <td>0</td>\n",
       "      <td>0</td>\n",
       "      <td>0</td>\n",
       "      <td>0</td>\n",
       "      <td>0</td>\n",
       "      <td>...</td>\n",
       "      <td>0</td>\n",
       "      <td>0</td>\n",
       "      <td>0</td>\n",
       "      <td>0</td>\n",
       "      <td>0</td>\n",
       "      <td>0</td>\n",
       "      <td>0</td>\n",
       "      <td>5.5</td>\n",
       "      <td>1.0</td>\n",
       "      <td>1.0</td>\n",
       "    </tr>\n",
       "    <tr>\n",
       "      <th>1</th>\n",
       "      <td>tt0000147</td>\n",
       "      <td>0</td>\n",
       "      <td>1897</td>\n",
       "      <td>20</td>\n",
       "      <td>0</td>\n",
       "      <td>0</td>\n",
       "      <td>0</td>\n",
       "      <td>0</td>\n",
       "      <td>0</td>\n",
       "      <td>0</td>\n",
       "      <td>...</td>\n",
       "      <td>0</td>\n",
       "      <td>0</td>\n",
       "      <td>1</td>\n",
       "      <td>0</td>\n",
       "      <td>0</td>\n",
       "      <td>0</td>\n",
       "      <td>0</td>\n",
       "      <td>5.2</td>\n",
       "      <td>2.0</td>\n",
       "      <td>0.0</td>\n",
       "    </tr>\n",
       "    <tr>\n",
       "      <th>2</th>\n",
       "      <td>tt0000574</td>\n",
       "      <td>0</td>\n",
       "      <td>1906</td>\n",
       "      <td>70</td>\n",
       "      <td>0</td>\n",
       "      <td>0</td>\n",
       "      <td>0</td>\n",
       "      <td>0</td>\n",
       "      <td>1</td>\n",
       "      <td>0</td>\n",
       "      <td>...</td>\n",
       "      <td>0</td>\n",
       "      <td>0</td>\n",
       "      <td>0</td>\n",
       "      <td>0</td>\n",
       "      <td>0</td>\n",
       "      <td>0</td>\n",
       "      <td>0</td>\n",
       "      <td>6.3</td>\n",
       "      <td>1.0</td>\n",
       "      <td>1.0</td>\n",
       "    </tr>\n",
       "  </tbody>\n",
       "</table>\n",
       "<p>3 rows × 35 columns</p>\n",
       "</div>"
      ],
      "text/plain": [
       "      tconst  isAdult  startYear  runtimeMinutes  Action  Adult  Adventure  \\\n",
       "0  tt0000009        0       1894              45       0      0          0   \n",
       "1  tt0000147        0       1897              20       0      0          0   \n",
       "2  tt0000574        0       1906              70       0      0          0   \n",
       "\n",
       "   Animation  Biography  Comedy         ...           Sci-Fi  Short  Sport  \\\n",
       "0          0          0       0         ...                0      0      0   \n",
       "1          0          0       0         ...                0      0      1   \n",
       "2          0          1       0         ...                0      0      0   \n",
       "\n",
       "   Talk-Show  Thriller  War  Western  averageRating  directors_movie_count  \\\n",
       "0          0         0    0        0            5.5                    1.0   \n",
       "1          0         0    0        0            5.2                    2.0   \n",
       "2          0         0    0        0            6.3                    1.0   \n",
       "\n",
       "   writers_movie_count  \n",
       "0                  1.0  \n",
       "1                  0.0  \n",
       "2                  1.0  \n",
       "\n",
       "[3 rows x 35 columns]"
      ]
     },
     "execution_count": 22,
     "metadata": {},
     "output_type": "execute_result"
    }
   ],
   "source": [
    "director_movie_count = crew.drop(columns=['directors','writers'])\n",
    "prep_basics_directors_ratings = pd.merge(prep_basics_ratings, director_movie_count, on='tconst')\n",
    "\n",
    "prep_basics_directors_ratings.head(3)"
   ]
  },
  {
   "cell_type": "markdown",
   "metadata": {},
   "source": [
    "Then we train our model again."
   ]
  },
  {
   "cell_type": "code",
   "execution_count": 23,
   "metadata": {},
   "outputs": [],
   "source": [
    "target = np.array(prep_basics_directors_ratings['averageRating'])\n",
    "\n",
    "features_df = prep_basics_directors_ratings.drop(columns=['tconst','averageRating'])#, 'Adult', 'isAdult', 'Animation', 'Film-Noir', 'Game-Show', 'News', 'Reality-TV', 'Short', 'Sport', 'Talk-Show', 'Western'])\n",
    "feature_names = list(features_df.columns)\n",
    "features = np.array(features_df)"
   ]
  },
  {
   "cell_type": "code",
   "execution_count": 24,
   "metadata": {},
   "outputs": [],
   "source": [
    "train_features, test_features, train_target, test_target = train_test_split(features, target, test_size = 0.20, random_state = 1)"
   ]
  },
  {
   "cell_type": "code",
   "execution_count": 25,
   "metadata": {},
   "outputs": [],
   "source": [
    "rf = RandomForestRegressor(n_estimators = 120, random_state = 1)\n",
    "rf.fit(train_features, train_target);"
   ]
  },
  {
   "cell_type": "markdown",
   "metadata": {},
   "source": [
    "The new features *directors_movie_count* and *writers_movie_count* indeed improved our model. According to the feature importance measurement, both features have a high predictive value compared to our other features and significantly improve the performance."
   ]
  },
  {
   "cell_type": "code",
   "execution_count": 26,
   "metadata": {},
   "outputs": [
    {
     "name": "stdout",
     "output_type": "stream",
     "text": [
      "Mean Absolute Error: 0.89\n",
      "Mean Squared Error: 1.35\n"
     ]
    }
   ],
   "source": [
    "predictions = rf.predict(test_features)\n",
    "\n",
    "errors = abs(predictions - test_target)\n",
    "\n",
    "print('Mean Absolute Error:', round(np.mean(errors), 2))\n",
    "print('Mean Squared Error:', round(np.mean(errors**2), 2))"
   ]
  },
  {
   "cell_type": "code",
   "execution_count": 27,
   "metadata": {},
   "outputs": [
    {
     "name": "stdout",
     "output_type": "stream",
     "text": [
      "runtimeMinutes       Importance: 0.19\n",
      "startYear            Importance: 0.17\n",
      "directors_movie_count Importance: 0.17\n",
      "writers_movie_count  Importance: 0.17\n",
      "Documentary          Importance: 0.1\n",
      "Horror               Importance: 0.04\n",
      "Drama                Importance: 0.03\n",
      "Comedy               Importance: 0.02\n",
      "Action               Importance: 0.01\n",
      "Adventure            Importance: 0.01\n",
      "Crime                Importance: 0.01\n",
      "Family               Importance: 0.01\n",
      "Fantasy              Importance: 0.01\n",
      "Music                Importance: 0.01\n",
      "Musical              Importance: 0.01\n",
      "Mystery              Importance: 0.01\n",
      "Romance              Importance: 0.01\n",
      "Sci-Fi               Importance: 0.01\n",
      "Thriller             Importance: 0.01\n",
      "isAdult              Importance: 0.0\n",
      "Adult                Importance: 0.0\n",
      "Animation            Importance: 0.0\n",
      "Biography            Importance: 0.0\n",
      "Film-Noir            Importance: 0.0\n",
      "Game-Show            Importance: 0.0\n",
      "History              Importance: 0.0\n",
      "News                 Importance: 0.0\n",
      "Reality-TV           Importance: 0.0\n",
      "Short                Importance: 0.0\n",
      "Sport                Importance: 0.0\n",
      "Talk-Show            Importance: 0.0\n",
      "War                  Importance: 0.0\n",
      "Western              Importance: 0.0\n"
     ]
    }
   ],
   "source": [
    "# Get numerical feature importances\n",
    "importances = list(rf.feature_importances_)\n",
    "# List of tuples with variable and importance\n",
    "feature_importances = [(feature, round(importance, 2)) for feature, importance in zip(feature_names, importances)]\n",
    "# Sort the feature importances by most important first\n",
    "feature_importances = sorted(feature_importances, key = lambda x: x[1], reverse = True)\n",
    "# Print out the feature and importances \n",
    "[print('{:20} Importance: {}'.format(*pair)) for pair in feature_importances];"
   ]
  },
  {
   "cell_type": "markdown",
   "metadata": {},
   "source": [
    "To further improve our model, we will utilize the `title.akas.tsv.gz` dataset. It contains information about the titles of a movie in different regions of the world. There are different interesting features we can build from this dataset. For example, using the original region of the movie as a feature. Maybe Bollywood produces better rated movies than Hollywood? \n",
    "For now, we assume that each listed version of a title corresponds to a country where the movie is published.\n",
    "We assume that high rated movies are published in more different regions than low rated movies. "
   ]
  },
  {
   "cell_type": "code",
   "execution_count": 28,
   "metadata": {},
   "outputs": [
    {
     "data": {
      "text/plain": [
       "(309441, 32)"
      ]
     },
     "execution_count": 28,
     "metadata": {},
     "output_type": "execute_result"
    }
   ],
   "source": [
    "basics.shape"
   ]
  },
  {
   "cell_type": "code",
   "execution_count": 29,
   "metadata": {},
   "outputs": [
    {
     "data": {
      "text/plain": [
       "(196023, 33)"
      ]
     },
     "execution_count": 29,
     "metadata": {},
     "output_type": "execute_result"
    }
   ],
   "source": [
    "prep_basics_ratings.shape"
   ]
  },
  {
   "cell_type": "markdown",
   "metadata": {},
   "source": [
    "First, we import the dataset."
   ]
  },
  {
   "cell_type": "code",
   "execution_count": 30,
   "metadata": {},
   "outputs": [
    {
     "data": {
      "text/html": [
       "<div>\n",
       "<style scoped>\n",
       "    .dataframe tbody tr th:only-of-type {\n",
       "        vertical-align: middle;\n",
       "    }\n",
       "\n",
       "    .dataframe tbody tr th {\n",
       "        vertical-align: top;\n",
       "    }\n",
       "\n",
       "    .dataframe thead th {\n",
       "        text-align: right;\n",
       "    }\n",
       "</style>\n",
       "<table border=\"1\" class=\"dataframe\">\n",
       "  <thead>\n",
       "    <tr style=\"text-align: right;\">\n",
       "      <th></th>\n",
       "      <th>titleId</th>\n",
       "      <th>ordering</th>\n",
       "      <th>title</th>\n",
       "      <th>region</th>\n",
       "      <th>language</th>\n",
       "      <th>types</th>\n",
       "      <th>attributes</th>\n",
       "      <th>isOriginalTitle</th>\n",
       "    </tr>\n",
       "  </thead>\n",
       "  <tbody>\n",
       "    <tr>\n",
       "      <th>0</th>\n",
       "      <td>tt0000001</td>\n",
       "      <td>1</td>\n",
       "      <td>Carmencita - spanyol tánc</td>\n",
       "      <td>HU</td>\n",
       "      <td>\\N</td>\n",
       "      <td>imdbDisplay</td>\n",
       "      <td>\\N</td>\n",
       "      <td>0</td>\n",
       "    </tr>\n",
       "    <tr>\n",
       "      <th>1</th>\n",
       "      <td>tt0000001</td>\n",
       "      <td>2</td>\n",
       "      <td>Карменсита</td>\n",
       "      <td>RU</td>\n",
       "      <td>\\N</td>\n",
       "      <td>\\N</td>\n",
       "      <td>\\N</td>\n",
       "      <td>0</td>\n",
       "    </tr>\n",
       "    <tr>\n",
       "      <th>2</th>\n",
       "      <td>tt0000001</td>\n",
       "      <td>3</td>\n",
       "      <td>Carmencita</td>\n",
       "      <td>US</td>\n",
       "      <td>\\N</td>\n",
       "      <td>\\N</td>\n",
       "      <td>\\N</td>\n",
       "      <td>0</td>\n",
       "    </tr>\n",
       "  </tbody>\n",
       "</table>\n",
       "</div>"
      ],
      "text/plain": [
       "     titleId  ordering                      title region language  \\\n",
       "0  tt0000001         1  Carmencita - spanyol tánc     HU       \\N   \n",
       "1  tt0000001         2                 Карменсита     RU       \\N   \n",
       "2  tt0000001         3                 Carmencita     US       \\N   \n",
       "\n",
       "         types attributes isOriginalTitle  \n",
       "0  imdbDisplay         \\N               0  \n",
       "1           \\N         \\N               0  \n",
       "2           \\N         \\N               0  "
      ]
     },
     "execution_count": 30,
     "metadata": {},
     "output_type": "execute_result"
    }
   ],
   "source": [
    "akas = pd.read_csv('title.akas.tsv.gz',sep='\\t', compression='gzip', low_memory=False)\n",
    "akas.head(3)"
   ]
  },
  {
   "cell_type": "markdown",
   "metadata": {},
   "source": [
    "Then we count the occurrence of each title and therefore the amount of different regions and merge it to our previous dataset."
   ]
  },
  {
   "cell_type": "code",
   "execution_count": 31,
   "metadata": {},
   "outputs": [
    {
     "data": {
      "text/html": [
       "<div>\n",
       "<style scoped>\n",
       "    .dataframe tbody tr th:only-of-type {\n",
       "        vertical-align: middle;\n",
       "    }\n",
       "\n",
       "    .dataframe tbody tr th {\n",
       "        vertical-align: top;\n",
       "    }\n",
       "\n",
       "    .dataframe thead th {\n",
       "        text-align: right;\n",
       "    }\n",
       "</style>\n",
       "<table border=\"1\" class=\"dataframe\">\n",
       "  <thead>\n",
       "    <tr style=\"text-align: right;\">\n",
       "      <th></th>\n",
       "      <th>tconst</th>\n",
       "      <th>isAdult</th>\n",
       "      <th>startYear</th>\n",
       "      <th>runtimeMinutes</th>\n",
       "      <th>Action</th>\n",
       "      <th>Adult</th>\n",
       "      <th>Adventure</th>\n",
       "      <th>Animation</th>\n",
       "      <th>Biography</th>\n",
       "      <th>Comedy</th>\n",
       "      <th>...</th>\n",
       "      <th>Short</th>\n",
       "      <th>Sport</th>\n",
       "      <th>Talk-Show</th>\n",
       "      <th>Thriller</th>\n",
       "      <th>War</th>\n",
       "      <th>Western</th>\n",
       "      <th>averageRating</th>\n",
       "      <th>directors_movie_count</th>\n",
       "      <th>writers_movie_count</th>\n",
       "      <th>language_count</th>\n",
       "    </tr>\n",
       "  </thead>\n",
       "  <tbody>\n",
       "    <tr>\n",
       "      <th>0</th>\n",
       "      <td>tt0000009</td>\n",
       "      <td>0</td>\n",
       "      <td>1894</td>\n",
       "      <td>45</td>\n",
       "      <td>0</td>\n",
       "      <td>0</td>\n",
       "      <td>0</td>\n",
       "      <td>0</td>\n",
       "      <td>0</td>\n",
       "      <td>0</td>\n",
       "      <td>...</td>\n",
       "      <td>0</td>\n",
       "      <td>0</td>\n",
       "      <td>0</td>\n",
       "      <td>0</td>\n",
       "      <td>0</td>\n",
       "      <td>0</td>\n",
       "      <td>5.5</td>\n",
       "      <td>1.0</td>\n",
       "      <td>1.0</td>\n",
       "      <td>3</td>\n",
       "    </tr>\n",
       "    <tr>\n",
       "      <th>1</th>\n",
       "      <td>tt0000147</td>\n",
       "      <td>0</td>\n",
       "      <td>1897</td>\n",
       "      <td>20</td>\n",
       "      <td>0</td>\n",
       "      <td>0</td>\n",
       "      <td>0</td>\n",
       "      <td>0</td>\n",
       "      <td>0</td>\n",
       "      <td>0</td>\n",
       "      <td>...</td>\n",
       "      <td>0</td>\n",
       "      <td>1</td>\n",
       "      <td>0</td>\n",
       "      <td>0</td>\n",
       "      <td>0</td>\n",
       "      <td>0</td>\n",
       "      <td>5.2</td>\n",
       "      <td>2.0</td>\n",
       "      <td>0.0</td>\n",
       "      <td>3</td>\n",
       "    </tr>\n",
       "    <tr>\n",
       "      <th>2</th>\n",
       "      <td>tt0000574</td>\n",
       "      <td>0</td>\n",
       "      <td>1906</td>\n",
       "      <td>70</td>\n",
       "      <td>0</td>\n",
       "      <td>0</td>\n",
       "      <td>0</td>\n",
       "      <td>0</td>\n",
       "      <td>1</td>\n",
       "      <td>0</td>\n",
       "      <td>...</td>\n",
       "      <td>0</td>\n",
       "      <td>0</td>\n",
       "      <td>0</td>\n",
       "      <td>0</td>\n",
       "      <td>0</td>\n",
       "      <td>0</td>\n",
       "      <td>6.3</td>\n",
       "      <td>1.0</td>\n",
       "      <td>1.0</td>\n",
       "      <td>4</td>\n",
       "    </tr>\n",
       "  </tbody>\n",
       "</table>\n",
       "<p>3 rows × 36 columns</p>\n",
       "</div>"
      ],
      "text/plain": [
       "      tconst  isAdult  startYear  runtimeMinutes  Action  Adult  Adventure  \\\n",
       "0  tt0000009        0       1894              45       0      0          0   \n",
       "1  tt0000147        0       1897              20       0      0          0   \n",
       "2  tt0000574        0       1906              70       0      0          0   \n",
       "\n",
       "   Animation  Biography  Comedy       ...        Short  Sport  Talk-Show  \\\n",
       "0          0          0       0       ...            0      0          0   \n",
       "1          0          0       0       ...            0      1          0   \n",
       "2          0          1       0       ...            0      0          0   \n",
       "\n",
       "   Thriller  War  Western  averageRating  directors_movie_count  \\\n",
       "0         0    0        0            5.5                    1.0   \n",
       "1         0    0        0            5.2                    2.0   \n",
       "2         0    0        0            6.3                    1.0   \n",
       "\n",
       "   writers_movie_count  language_count  \n",
       "0                  1.0               3  \n",
       "1                  0.0               3  \n",
       "2                  1.0               4  \n",
       "\n",
       "[3 rows x 36 columns]"
      ]
     },
     "execution_count": 31,
     "metadata": {},
     "output_type": "execute_result"
    }
   ],
   "source": [
    "language_count = akas['titleId'].value_counts().rename(\"language_count\").to_frame()\n",
    "prep_basics_directors_languages_ratings = prep_basics_directors_ratings.merge(language_count, left_on='tconst', right_index=True)\n",
    "prep_basics_directors_languages_ratings.head(3)"
   ]
  },
  {
   "cell_type": "markdown",
   "metadata": {},
   "source": [
    "We train our random forest regressor as before."
   ]
  },
  {
   "cell_type": "code",
   "execution_count": 32,
   "metadata": {},
   "outputs": [],
   "source": [
    "target = np.array(prep_basics_directors_languages_ratings['averageRating'])\n",
    "\n",
    "features_df = prep_basics_directors_languages_ratings.drop(columns=['tconst','averageRating'])#, 'Adult', 'isAdult', 'Animation', 'Film-Noir', 'Game-Show', 'News', 'Reality-TV', 'Short', 'Sport', 'Talk-Show', 'Western', 'War', 'Thriller', 'Sci-Fi', 'Romance', 'Mystery', 'Musical', 'Music', 'History', 'Fantasy', 'Family', 'Crime', 'Biography', 'Adventure', 'Action'])\n",
    "feature_names = list(features_df.columns)\n",
    "features = np.array(features_df)"
   ]
  },
  {
   "cell_type": "code",
   "execution_count": 33,
   "metadata": {},
   "outputs": [],
   "source": [
    "train_features, test_features, train_target, test_target = train_test_split(features, target, test_size = 0.20, random_state = 1)"
   ]
  },
  {
   "cell_type": "code",
   "execution_count": 34,
   "metadata": {},
   "outputs": [],
   "source": [
    "rf = RandomForestRegressor(n_estimators = 120, random_state = 1)\n",
    "rf.fit(train_features, train_target);"
   ]
  },
  {
   "cell_type": "markdown",
   "metadata": {},
   "source": [
    "The feature only slighly increases the performance. However, it has a higher predictive value than all the genres except *Documentary* according to the random forest importance measurement."
   ]
  },
  {
   "cell_type": "code",
   "execution_count": 35,
   "metadata": {},
   "outputs": [
    {
     "name": "stdout",
     "output_type": "stream",
     "text": [
      "Mean Absolute Error: 0.88\n",
      "Mean Squared Error: 1.32\n"
     ]
    }
   ],
   "source": [
    "predictions = rf.predict(test_features)\n",
    "\n",
    "errors = abs(predictions - test_target)\n",
    "\n",
    "print('Mean Absolute Error:', round(np.mean(errors), 2))\n",
    "print('Mean Squared Error:', round(np.mean(errors**2), 2))"
   ]
  },
  {
   "cell_type": "code",
   "execution_count": 36,
   "metadata": {
    "scrolled": true
   },
   "outputs": [
    {
     "name": "stdout",
     "output_type": "stream",
     "text": [
      "runtimeMinutes       Importance: 0.18\n",
      "startYear            Importance: 0.16\n",
      "directors_movie_count Importance: 0.15\n",
      "writers_movie_count  Importance: 0.15\n",
      "Documentary          Importance: 0.1\n",
      "language_count       Importance: 0.07\n",
      "Horror               Importance: 0.04\n",
      "Drama                Importance: 0.03\n",
      "Comedy               Importance: 0.02\n",
      "Action               Importance: 0.01\n",
      "Adventure            Importance: 0.01\n",
      "Biography            Importance: 0.01\n",
      "Crime                Importance: 0.01\n",
      "Family               Importance: 0.01\n",
      "Fantasy              Importance: 0.01\n",
      "Music                Importance: 0.01\n",
      "Mystery              Importance: 0.01\n",
      "Romance              Importance: 0.01\n",
      "Sci-Fi               Importance: 0.01\n",
      "Thriller             Importance: 0.01\n",
      "isAdult              Importance: 0.0\n",
      "Adult                Importance: 0.0\n",
      "Animation            Importance: 0.0\n",
      "Film-Noir            Importance: 0.0\n",
      "Game-Show            Importance: 0.0\n",
      "History              Importance: 0.0\n",
      "Musical              Importance: 0.0\n",
      "News                 Importance: 0.0\n",
      "Reality-TV           Importance: 0.0\n",
      "Short                Importance: 0.0\n",
      "Sport                Importance: 0.0\n",
      "Talk-Show            Importance: 0.0\n",
      "War                  Importance: 0.0\n",
      "Western              Importance: 0.0\n"
     ]
    }
   ],
   "source": [
    "# Get numerical feature importances\n",
    "importances = list(rf.feature_importances_)\n",
    "# List of tuples with variable and importance\n",
    "feature_importances = [(feature, round(importance, 2)) for feature, importance in zip(feature_names, importances)]\n",
    "# Sort the feature importances by most important first\n",
    "feature_importances = sorted(feature_importances, key = lambda x: x[1], reverse = True)\n",
    "# Print out the feature and importances \n",
    "[print('{:20} Importance: {}'.format(*pair)) for pair in feature_importances];"
   ]
  },
  {
   "cell_type": "markdown",
   "metadata": {},
   "source": [
    "In this final step, we compare the results to different regression algorithms and a random forest that uses normalized values. We normalize all values because it improves the performance for many algorithms. As expected the random forest does not improve by normalizing the features."
   ]
  },
  {
   "cell_type": "code",
   "execution_count": 37,
   "metadata": {},
   "outputs": [
    {
     "name": "stdout",
     "output_type": "stream",
     "text": [
      "ScaledRF\n",
      "Mean Absolute Error: 0.88\n",
      "Mean Squared Error: 1.33\n",
      "---\n",
      "ScaledLR\n",
      "Mean Absolute Error: 0.91\n",
      "Mean Squared Error: 2.51\n",
      "---\n",
      "ScaledLASSO\n",
      "Mean Absolute Error: 1.03\n",
      "Mean Squared Error: 1.73\n",
      "---\n",
      "ScaledEN\n",
      "Mean Absolute Error: 1.03\n",
      "Mean Squared Error: 1.73\n",
      "---\n",
      "ScaledKNN\n",
      "Mean Absolute Error: 0.93\n",
      "Mean Squared Error: 1.48\n",
      "---\n",
      "ScaledCART\n",
      "Mean Absolute Error: 1.22\n",
      "Mean Squared Error: 2.57\n",
      "---\n",
      "ScaledGBM\n",
      "Mean Absolute Error: 0.88\n",
      "Mean Squared Error: 1.31\n",
      "---\n"
     ]
    }
   ],
   "source": [
    "from sklearn.linear_model import LinearRegression\n",
    "from sklearn.linear_model import Lasso\n",
    "from sklearn.linear_model import ElasticNet\n",
    "from sklearn.tree import DecisionTreeRegressor\n",
    "from sklearn.neighbors import KNeighborsRegressor\n",
    "from sklearn.ensemble import GradientBoostingRegressor\n",
    "from sklearn.model_selection import train_test_split\n",
    "from sklearn.model_selection import cross_val_score\n",
    "from sklearn.model_selection import KFold\n",
    "from sklearn.pipeline import Pipeline\n",
    "from sklearn.preprocessing import StandardScaler\n",
    "\n",
    "pipelines = []\n",
    "pipelines.append(('ScaledRF', Pipeline([('Scaler', StandardScaler()),('RF', RandomForestRegressor(n_estimators=100, random_state=1))])))\n",
    "pipelines.append(('ScaledLR', Pipeline([('Scaler', StandardScaler()),('LR',LinearRegression())])))\n",
    "pipelines.append(('ScaledLASSO', Pipeline([('Scaler', StandardScaler()),('LASSO', Lasso())])))\n",
    "pipelines.append(('ScaledEN', Pipeline([('Scaler', StandardScaler()),('EN', ElasticNet())])))\n",
    "pipelines.append(('ScaledKNN', Pipeline([('Scaler', StandardScaler()),('KNN', KNeighborsRegressor())])))\n",
    "pipelines.append(('ScaledCART', Pipeline([('Scaler', StandardScaler()),('CART', DecisionTreeRegressor())])))\n",
    "pipelines.append(('ScaledGBM', Pipeline([('Scaler', StandardScaler()),('GBM', GradientBoostingRegressor())])))\n",
    "\n",
    "results = []\n",
    "names = []\n",
    "for name, model in pipelines:\n",
    "    model.fit(train_features, train_target)\n",
    "    predictions = model.predict(test_features)\n",
    "    errors = abs(predictions - test_target)\n",
    "    print(name)\n",
    "    print('Mean Absolute Error:', round(np.mean(errors), 2))\n",
    "    print('Mean Squared Error:', round(np.mean(errors**2), 2))\n",
    "    print('---')\n"
   ]
  },
  {
   "cell_type": "markdown",
   "metadata": {},
   "source": [
    "The random forest is only slightly outperformed by the gradient boosting regressor and the other algorithms perform worse. It is interesting to note that 3 algorithms did not even outperform guessing the mean.\n",
    "\n",
    "Our final results:\n",
    "- Mean Absolute Error: **0.88**\n",
    "- Mean Squared Error:  **1.31**\n",
    "\n",
    "- Mean Absolute Error improvement: 1.03 -> 0.88 which corresponds to a 14.6% improvement over the mean.\n",
    "- Mean Squared Error improvement : 1.72 -> 1.31 which corresponds to a 23.8% improvement over the mean."
   ]
  }
 ],
 "metadata": {
  "kernelspec": {
   "display_name": "Python 3",
   "language": "python",
   "name": "python3"
  },
  "language_info": {
   "codemirror_mode": {
    "name": "ipython",
    "version": 3
   },
   "file_extension": ".py",
   "mimetype": "text/x-python",
   "name": "python",
   "nbconvert_exporter": "python",
   "pygments_lexer": "ipython3",
   "version": "3.7.0"
  }
 },
 "nbformat": 4,
 "nbformat_minor": 2
}
